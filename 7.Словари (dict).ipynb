{
 "cells": [
  {
   "cell_type": "markdown",
   "metadata": {},
   "source": [
    "# Словари (dict)\n",
    "\n",
    "Словари (dict) – это одна из наиболее часто используемых структур данных, позволяющая хранить объекты, для доступа к которым используется ключ. В этом уроке будут рассмотрены операции создания, удаления, работы со словарями и их методы.\n",
    "\n",
    "## Что такое словарь (dict) в Python?\n",
    "\n",
    "Словарь (dict) представляет собой структуру данных (которая ещё называется ассоциативный массив), предназначенную для хранения произвольных объектов с доступом по ключу. Данные в словаре хранятся в формате ключ – значение. Если вспомнить такую структуру как список, то доступ к его элементам осуществляется по индексу, который представляет собой целое неотрицательное число, причем мы сами, непосредственно, не участвуем в его создании (индекса). В словаре аналогом индекса является ключ, при этом ответственность за его формирование ложится на программиста.\n",
    "\n",
    "## Создание, изменение, удаление словарей и работа с его элементами\n",
    "\n",
    "Создание словаря\n",
    "Пустой словарь можно создать, используя функцию dict(), либо просто указав пустые фигурные скобки."
   ]
  },
  {
   "cell_type": "code",
   "execution_count": 1,
   "metadata": {},
   "outputs": [
    {
     "name": "stdout",
     "output_type": "stream",
     "text": [
      "<class 'dict'>\n",
      "<class 'dict'>\n"
     ]
    }
   ],
   "source": [
    "d1 = dict()\n",
    "print(type(d1))\n",
    "\n",
    "d2 = {}\n",
    "print(type(d2))"
   ]
  },
  {
   "cell_type": "markdown",
   "metadata": {},
   "source": [
    "Если необходимо создать словарь с заранее подготовленным набором данных, то можно использовать один из перечисленных выше подходов, но с перечислением групп ключ-значение."
   ]
  },
  {
   "cell_type": "code",
   "execution_count": 4,
   "metadata": {},
   "outputs": [
    {
     "name": "stdout",
     "output_type": "stream",
     "text": [
      "{'Ivan': 'manager', 'Mark': 'worker'}\n",
      "{'A1': '123', 'A2': '456'}\n"
     ]
    }
   ],
   "source": [
    "d1 = dict(Ivan=\"manager\", Mark=\"worker\")\n",
    "print(d1)\n",
    "\n",
    "d2 = {\"A1\":\"123\", \"A2\":\"456\"}\n",
    "print(d2)"
   ]
  },
  {
   "cell_type": "markdown",
   "metadata": {},
   "source": [
    "Добавление и удаление элемента\n",
    "Чтобы добавить элемент в словарь нужно указать новый ключ и значение."
   ]
  },
  {
   "cell_type": "code",
   "execution_count": 7,
   "metadata": {},
   "outputs": [
    {
     "name": "stdout",
     "output_type": "stream",
     "text": [
      "{'Russia': 'Moscow', 'USA': 'Washington', 'China': 'Beijing'}\n"
     ]
    }
   ],
   "source": [
    "d1 = {\"Russia\":\"Moscow\", \"USA\":\"Washington\"}\n",
    "d1[\"China\"]=\"Beijing\"\n",
    "print(d1)"
   ]
  },
  {
   "cell_type": "markdown",
   "metadata": {},
   "source": [
    "Для удаления элемента из словаря можно воспользоваться командой del."
   ]
  },
  {
   "cell_type": "code",
   "execution_count": 8,
   "metadata": {},
   "outputs": [
    {
     "name": "stdout",
     "output_type": "stream",
     "text": [
      "{'A2': '456'}\n"
     ]
    }
   ],
   "source": [
    "d2 = {\"A1\":\"123\", \"A2\":\"456\"}\n",
    "del d2[\"A1\"]\n",
    "print(d2)"
   ]
  },
  {
   "cell_type": "markdown",
   "metadata": {},
   "source": [
    "Работа со словарем\n",
    "Проверка наличия ключа в словаре производится с помощью оператора in."
   ]
  },
  {
   "cell_type": "code",
   "execution_count": 12,
   "metadata": {},
   "outputs": [
    {
     "name": "stdout",
     "output_type": "stream",
     "text": [
      "True\n",
      "False\n"
     ]
    }
   ],
   "source": [
    "d2 = {\"A1\":\"123\", \"A2\":\"456\"}\n",
    "print(\"A1\" in d2)\n",
    "print(\"A3\" in d2)"
   ]
  },
  {
   "cell_type": "markdown",
   "metadata": {},
   "source": [
    "Доступ к элементу словаря, осуществляется как же как доступ к элементу списка, только в качестве индекса указывается ключ."
   ]
  },
  {
   "cell_type": "code",
   "execution_count": 13,
   "metadata": {},
   "outputs": [
    {
     "data": {
      "text/plain": [
       "'Moscow'"
      ]
     },
     "execution_count": 13,
     "metadata": {},
     "output_type": "execute_result"
    }
   ],
   "source": [
    "d1 = {\"Russia\":\"Moscow\", \"USA\":\"Washington\"}\n",
    "d1[\"Russia\"]"
   ]
  },
  {
   "cell_type": "markdown",
   "metadata": {},
   "source": [
    "## Методы словарей\n",
    "\n",
    "У словарей доступен следующий набор методов.\n",
    "\n",
    "### clear()\n",
    "Удаляет все элементы словаря."
   ]
  },
  {
   "cell_type": "code",
   "execution_count": 15,
   "metadata": {},
   "outputs": [
    {
     "name": "stdout",
     "output_type": "stream",
     "text": [
      "{'A1': '123', 'A2': '456'}\n",
      "{}\n"
     ]
    }
   ],
   "source": [
    "d2 = {\"A1\":\"123\", \"A2\":\"456\"}\n",
    "print(d2)\n",
    "\n",
    "d2.clear()\n",
    "print(d2)"
   ]
  },
  {
   "cell_type": "markdown",
   "metadata": {},
   "source": [
    "### copy()\n",
    "Создается новая копия словаря."
   ]
  },
  {
   "cell_type": "code",
   "execution_count": 20,
   "metadata": {},
   "outputs": [
    {
     "name": "stdout",
     "output_type": "stream",
     "text": [
      "{'A1': '123', 'A2': '456'}\n",
      "{'A1': '123', 'A2': '456'}\n",
      "{'A1': '789', 'A2': '456'}\n"
     ]
    }
   ],
   "source": [
    "d2 = {\"A1\":\"123\", \"A2\":\"456\"}\n",
    "d3 = d2.copy()\n",
    "print(d3)\n",
    "\n",
    "d3[\"A1\"]=\"789\"\n",
    "print(d2)\n",
    "print(d3)"
   ]
  },
  {
   "cell_type": "markdown",
   "metadata": {},
   "source": [
    "### fromkeys(seq[, value])\n",
    "Создает новый словарь с ключами из seq и значениями из value. По умолчанию value присваивается значение None."
   ]
  },
  {
   "cell_type": "code",
   "execution_count": 25,
   "metadata": {},
   "outputs": [
    {
     "name": "stdout",
     "output_type": "stream",
     "text": [
      "{1: 10, 2: 10, 3: 10}\n",
      "{3: [10, 20, 30], 2: [10, 20, 30], 1: [10, 20, 30]}\n"
     ]
    }
   ],
   "source": [
    "d4 = dict.fromkeys([1,2,3],10)\n",
    "print(d4)\n",
    "\n",
    "d4 = dict.fromkeys([3,2,1],[10,20,30])\n",
    "print(d4)"
   ]
  },
  {
   "cell_type": "markdown",
   "metadata": {},
   "source": [
    "### get(key)\n",
    "Возвращает значение из словаря по ключу key."
   ]
  },
  {
   "cell_type": "code",
   "execution_count": 29,
   "metadata": {},
   "outputs": [
    {
     "data": {
      "text/plain": [
       "'123'"
      ]
     },
     "execution_count": 29,
     "metadata": {},
     "output_type": "execute_result"
    }
   ],
   "source": [
    "d = {\"A1\":\"123\", \"A2\":\"456\"}\n",
    "d.get(\"A1\")"
   ]
  },
  {
   "cell_type": "markdown",
   "metadata": {},
   "source": [
    "### items()\n",
    "Возвращает элементы словаря (ключ, значение) в отформатированном виде."
   ]
  },
  {
   "cell_type": "code",
   "execution_count": 30,
   "metadata": {},
   "outputs": [
    {
     "data": {
      "text/plain": [
       "dict_items([('A1', '123'), ('A2', '456')])"
      ]
     },
     "execution_count": 30,
     "metadata": {},
     "output_type": "execute_result"
    }
   ],
   "source": [
    "d = {\"A1\":\"123\", \"A2\":\"456\"}\n",
    "d.items()"
   ]
  },
  {
   "cell_type": "markdown",
   "metadata": {},
   "source": [
    "### keys()\n",
    "Возвращает ключи словаря."
   ]
  },
  {
   "cell_type": "code",
   "execution_count": 32,
   "metadata": {},
   "outputs": [
    {
     "data": {
      "text/plain": [
       "dict_keys(['A1', 'A2'])"
      ]
     },
     "execution_count": 32,
     "metadata": {},
     "output_type": "execute_result"
    }
   ],
   "source": [
    "d = {\"A1\":\"123\", \"A2\":\"456\"}\n",
    "d.keys()"
   ]
  },
  {
   "cell_type": "markdown",
   "metadata": {},
   "source": [
    "### pop(key[, default])\n",
    "Если ключ key есть в словаре, то данный элемент удаляется из словаря и возвращается значение по этому ключу, иначе будет возвращено значение default. Если default не указан и запрашиваемый ключ отсутствует в словаре, то будет вызвано исключение KeyError."
   ]
  },
  {
   "cell_type": "code",
   "execution_count": 36,
   "metadata": {},
   "outputs": [
    {
     "name": "stdout",
     "output_type": "stream",
     "text": [
      "123\n",
      "{'A2': '456'}\n"
     ]
    }
   ],
   "source": [
    "d = {\"A1\":\"123\", \"A2\":\"456\"}\n",
    "print(d.pop(\"A1\"))\n",
    "print(d)"
   ]
  },
  {
   "cell_type": "markdown",
   "metadata": {},
   "source": [
    "### popitem()\n",
    "Удаляет и возвращает пару (ключ, значение) из словаря. Если словарь пуст, то будет вызвано исключение KeyError."
   ]
  },
  {
   "cell_type": "code",
   "execution_count": 38,
   "metadata": {},
   "outputs": [
    {
     "name": "stdout",
     "output_type": "stream",
     "text": [
      "('A2', '456')\n",
      "{'A1': '123'}\n"
     ]
    }
   ],
   "source": [
    "d = {\"A1\":\"123\", \"A2\":\"456\"}\n",
    "print(d.popitem())\n",
    "print(d)"
   ]
  },
  {
   "cell_type": "markdown",
   "metadata": {},
   "source": [
    "### setdefault(key[, default])\n",
    "Если ключ key есть в словаре, то возвращается значение по ключу. Если такого ключа нет, то в словарь вставляется элемент с ключом key и значением default, если default не определен, то по умолчанию присваивается None."
   ]
  },
  {
   "cell_type": "code",
   "execution_count": 42,
   "metadata": {},
   "outputs": [
    {
     "name": "stdout",
     "output_type": "stream",
     "text": [
      "777\n",
      "{'A1': '123', 'A2': '456', 'A3': '777'}\n",
      "123\n",
      "{'A1': '123', 'A2': '456', 'A3': '777'}\n"
     ]
    }
   ],
   "source": [
    "d = {\"A1\":\"123\", \"A2\":\"456\"}\n",
    "print(d.setdefault(\"A3\", \"777\"))\n",
    "print(d)\n",
    "\n",
    "print(d.setdefault(\"A1\"))\n",
    "print(d)"
   ]
  },
  {
   "cell_type": "markdown",
   "metadata": {},
   "source": [
    "### update([other])\n",
    "Обновить словарь парами (key/value) из other, если ключи уже существуют, то обновить их значения."
   ]
  },
  {
   "cell_type": "code",
   "execution_count": 44,
   "metadata": {},
   "outputs": [
    {
     "name": "stdout",
     "output_type": "stream",
     "text": [
      "{'A1': '123', 'A2': '456'}\n",
      "{'A1': '333', 'A2': '456', 'A3': '789'}\n"
     ]
    }
   ],
   "source": [
    "d = {\"A1\":\"123\", \"A2\":\"456\"}\n",
    "print(d)\n",
    "\n",
    "d.update({\"A1\":\"333\", \"A3\":\"789\"})\n",
    "print(d)"
   ]
  },
  {
   "cell_type": "markdown",
   "metadata": {},
   "source": [
    "### values()\n",
    "Возвращает значения элементов словаря."
   ]
  },
  {
   "cell_type": "code",
   "execution_count": 46,
   "metadata": {},
   "outputs": [
    {
     "name": "stdout",
     "output_type": "stream",
     "text": [
      "dict_values(['123', '456'])\n"
     ]
    }
   ],
   "source": [
    "d = {\"A1\":\"123\", \"A2\":\"456\"}\n",
    "print(d.values())"
   ]
  }
 ],
 "metadata": {
  "kernelspec": {
   "display_name": "Python 3",
   "language": "python",
   "name": "python3"
  },
  "language_info": {
   "codemirror_mode": {
    "name": "ipython",
    "version": 3
   },
   "file_extension": ".py",
   "mimetype": "text/x-python",
   "name": "python",
   "nbconvert_exporter": "python",
   "pygments_lexer": "ipython3",
   "version": "3.7.6"
  }
 },
 "nbformat": 4,
 "nbformat_minor": 4
}
