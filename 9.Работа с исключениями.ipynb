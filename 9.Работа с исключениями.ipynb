{
 "cells": [
  {
   "cell_type": "markdown",
   "metadata": {},
   "source": [
    "# Работа с исключениями\n",
    "\n",
    "Данный урок посвящен исключениям и работе с ними. Основное внимание уделено понятию исключения в языках программирования, обработке исключений в Python, их генерации и созданию пользовательских исключений.\n",
    "\n",
    "## Исключения в языках программирования\n",
    "Исключениями (exceptions) в языках программирования называют проблемы, возникающие в ходе выполнения программы, которые допускают возможность дальнейшей ее работы в рамках основного алгоритма. Типичным примером исключения является деление на ноль, невозможность считать данные из файла (устройства), отсутствие доступной памяти, доступ к закрытой области памяти и т.п. Для обработки таких ситуаций в языках программирования, как правило, предусматривается специальный механизм, который называется обработка исключений (exception handling).\n",
    "\n",
    "Исключения разделяют на **синхронные** и **асинхронные**. Синхронные исключения могут возникнуть только в определенных местах программы. Например, если у вас есть код, который открывает файл и считывает из него данные, то исключение типа “ошибка чтения данных” может произойти только в указанном куске кода. **Асинхронные** исключения могут возникнуть в любой момент работы программы, они, как правило, связаны с какими-либо аппаратными проблемами, либо приходом данных. В качестве примера можно привести сигнал отключения питания.\n",
    "\n",
    "В языках программирования чаще всего предусматривается специальный механизм обработки исключений. **Обработка** может быть **с возвратом**, когда после обработки исключения выполнение программы продолжается с того места, где оно возникло. И **обработка без возврата**, в этом случае, при возникновении исключения, осуществляется переход в специальный, заранее подготовленный, блок кода.\n",
    "\n",
    "Различают **структурную** и **неструктурную** обработку исключений. Неструктурная обработка предполагает регистрацию функции обработчика для каждого исключения, соответственно данная функция будет вызвана при возникновении конкретного исключения. Для **структурной** обработки язык программирования должен поддерживать специальные синтаксические конструкции, которые позволяют выделить код, который необходимо контролировать и код, который нужно выполнить при возникновении исключительной ситуации.\n",
    "\n",
    "## Ошибки и исключения в Python\n",
    "\n",
    "В Python выделяют два различных вида ошибок: синтаксические ошибки и исключения.\n",
    "\n",
    "### Синтаксические ошибки в Python\n",
    "Синтаксические ошибки возникают в случае если программа написана с нарушениями требований Python к синтаксису. Определяются они в процессе парсинга программы. Ниже представлен пример с ошибочным написанием функции *print*."
   ]
  },
  {
   "cell_type": "code",
   "execution_count": 2,
   "metadata": {},
   "outputs": [
    {
     "ename": "NameError",
     "evalue": "name 'prin' is not defined",
     "output_type": "error",
     "traceback": [
      "\u001b[1;31m---------------------------------------------------------------------------\u001b[0m",
      "\u001b[1;31mNameError\u001b[0m                                 Traceback (most recent call last)",
      "\u001b[1;32m<ipython-input-2-5aa7b5ddaafc>\u001b[0m in \u001b[0;36m<module>\u001b[1;34m\u001b[0m\n\u001b[1;32m----> 1\u001b[1;33m \u001b[0mprin\u001b[0m\u001b[1;33m(\u001b[0m\u001b[1;34m\"hello!\"\u001b[0m\u001b[1;33m)\u001b[0m\u001b[1;33m\u001b[0m\u001b[1;33m\u001b[0m\u001b[0m\n\u001b[0m",
      "\u001b[1;31mNameError\u001b[0m: name 'prin' is not defined"
     ]
    }
   ],
   "source": [
    "prin(\"hello!\")"
   ]
  },
  {
   "cell_type": "markdown",
   "metadata": {},
   "source": [
    "### Исключения в Python\n",
    "\n",
    "Второй вид ошибок – это исключения. Они возникают в случае если синтаксически программа корректна, но в процессе выполнения возникает ошибка (деление на ноль и т.п.). Более подробно про понятие исключения написано выше, в разделе “исключения в языках программирования”.\n",
    "\n",
    "Пример исключения *ZeroDivisionError*, которое возникает при делении на 0."
   ]
  },
  {
   "cell_type": "code",
   "execution_count": 3,
   "metadata": {},
   "outputs": [
    {
     "ename": "ZeroDivisionError",
     "evalue": "division by zero",
     "output_type": "error",
     "traceback": [
      "\u001b[1;31m---------------------------------------------------------------------------\u001b[0m",
      "\u001b[1;31mZeroDivisionError\u001b[0m                         Traceback (most recent call last)",
      "\u001b[1;32m<ipython-input-3-0b98061f2a19>\u001b[0m in \u001b[0;36m<module>\u001b[1;34m\u001b[0m\n\u001b[0;32m      1\u001b[0m \u001b[0ma\u001b[0m \u001b[1;33m=\u001b[0m \u001b[1;36m10\u001b[0m\u001b[1;33m\u001b[0m\u001b[1;33m\u001b[0m\u001b[0m\n\u001b[0;32m      2\u001b[0m \u001b[0mb\u001b[0m \u001b[1;33m=\u001b[0m \u001b[1;36m0\u001b[0m\u001b[1;33m\u001b[0m\u001b[1;33m\u001b[0m\u001b[0m\n\u001b[1;32m----> 3\u001b[1;33m \u001b[0mc\u001b[0m \u001b[1;33m=\u001b[0m \u001b[0ma\u001b[0m \u001b[1;33m/\u001b[0m \u001b[0mb\u001b[0m\u001b[1;33m\u001b[0m\u001b[1;33m\u001b[0m\u001b[0m\n\u001b[0m",
      "\u001b[1;31mZeroDivisionError\u001b[0m: division by zero"
     ]
    }
   ],
   "source": [
    "a = 10\n",
    "b = 0\n",
    "c = a / b"
   ]
  },
  {
   "cell_type": "markdown",
   "metadata": {},
   "source": [
    "В *Python* исключения являются определенным типом данных, через который пользователь (программист) получает информацию об ошибке. Если в коде программы исключение не обрабатывается, то приложение останавливается и в консоли печатается подробное описание произошедшей ошибки с указанием места в программе, где она произошла и тип этой ошибки."
   ]
  },
  {
   "cell_type": "markdown",
   "metadata": {},
   "source": [
    "## Иерархия исключений в Python\n",
    "\n",
    "Существует довольно большое количество встроенных типов исключений в языке Python, все они составляют определенную иерархию, которая выглядит так, как показано ниже:\n",
    "\n",
    "<pre>BaseException\n",
    "|---Exception\n",
    "|---|---StandardError\n",
    "|---|---|---ArithmeticError\n",
    "|---|---|---|---FloatingPointError\n",
    "|---|---|---|---OverflowError\n",
    "|---|---|---|---ZeroDivisionError\n",
    "|---|---|---AssertionError\n",
    "|---|---|---AttributeError\n",
    "|---|---|---BufferError\n",
    "|---|---|---EOFError\n",
    "|---|---|---EnvironmentError\n",
    "|---|---|---|---IOError\n",
    "|---|---|---|---OSError\n",
    "|---|---|---ImportError\n",
    "|---|---|---LookupError\n",
    "|---|---|---|---IndexError\n",
    "|---|---|---|---KeyError\n",
    "|---|---|---MemoryError\n",
    "|---|---|---NameError\n",
    "|---|---|---|---UnboundLocalError\n",
    "|---|---|---ReferenceError\n",
    "|---|---|---RuntimeError\n",
    "|---|---|---|---NotImplementedError\n",
    "|---|---|---SyntaxError\n",
    "|---|---|---|---IndentationError\n",
    "|---|---|---|---|---TabError\n",
    "|---|---|---SystemError\n",
    "|---|---|---TypeError\n",
    "|---|---|---ValueError\n",
    "|---|---|---|---UnicodeError\n",
    "|---|---|---|---|---UnicodeDecodeError\n",
    "|---|---|---|---|---UnicodeEncodeError\n",
    "|---|---|---|---|---UnicodeTranslateError\n",
    "|---|---StopIteration\n",
    "|---|---Warning\n",
    "|---|---|---BytesWarning\n",
    "|---|---|---DeprecationWarning\n",
    "|---|---|---FutureWarning\n",
    "|---|---|---ImportWarning\n",
    "|---|---|---PendingDeprecationWarning\n",
    "|---|---|---RuntimeWarning\n",
    "|---|---|---SyntaxWarning\n",
    "|---|---|---UnicodeWarning\n",
    "|---|---|---UserWarning\n",
    "|---GeneratorExit\n",
    "|---KeyboardInterrupt\n",
    "|---SystemExit\n",
    "</pre>\n",
    "\n",
    "Как видно из приведенной выше схемы, все исключения являются подклассом исключения BaseException. Более подробно об иерархии исключений и их описании можете прочитать <a href=\"https://docs.python.org/3/library/exceptions.html#bltin-exceptions\">здесь</a>.\n",
    "\n",
    "## Обработка исключений в Python\n",
    "Обработка исключений нужна для того, чтобы приложение не завершалось аварийно каждый раз, когда возникает исключение. Для этого блок кода, в котором возможно появление исключительной ситуации необходимо поместить во внутрь синтаксической конструкции *try…except*."
   ]
  },
  {
   "cell_type": "code",
   "execution_count": 8,
   "metadata": {},
   "outputs": [
    {
     "name": "stdout",
     "output_type": "stream",
     "text": [
      "start\n",
      "input number: 0\n",
      "Error! division by zero\n",
      "stop\n"
     ]
    }
   ],
   "source": [
    "print(\"start\")\n",
    "try:\n",
    "   val = int(input(\"input number: \"))\n",
    "   tmp = 10 / val\n",
    "   print(tmp)\n",
    "except Exception as e:\n",
    "   print(\"Error! \" + str(e))\n",
    "print(\"stop\")"
   ]
  },
  {
   "cell_type": "markdown",
   "metadata": {},
   "source": [
    "В приведенной выше программе возможных два вида исключений – это *ValueError*, возникающее в случае, если на запрос программы “введите число”, вы введете строку, и *ZeroDivisionError* – если вы введете в качестве числа 0.\n",
    "\n",
    "Вывод программы при вводе нулевого числа будет таким:\n",
    "<pre>start\n",
    "input number: 0\n",
    "Error! division by zero\n",
    "stop\n",
    "</pre>\n",
    "\n",
    "Если бы инструкций *try…except* не было, то при выбросе любого из исключений программа аварийно завершится."
   ]
  },
  {
   "cell_type": "code",
   "execution_count": 13,
   "metadata": {},
   "outputs": [
    {
     "name": "stdout",
     "output_type": "stream",
     "text": [
      "start\n",
      "input number: 0\n"
     ]
    },
    {
     "ename": "ZeroDivisionError",
     "evalue": "division by zero",
     "output_type": "error",
     "traceback": [
      "\u001b[1;31m---------------------------------------------------------------------------\u001b[0m",
      "\u001b[1;31mZeroDivisionError\u001b[0m                         Traceback (most recent call last)",
      "\u001b[1;32m<ipython-input-13-6bab60a2a258>\u001b[0m in \u001b[0;36m<module>\u001b[1;34m\u001b[0m\n\u001b[0;32m      1\u001b[0m \u001b[0mprint\u001b[0m\u001b[1;33m(\u001b[0m\u001b[1;34m\"start\"\u001b[0m\u001b[1;33m)\u001b[0m\u001b[1;33m\u001b[0m\u001b[1;33m\u001b[0m\u001b[0m\n\u001b[0;32m      2\u001b[0m \u001b[0mval\u001b[0m \u001b[1;33m=\u001b[0m \u001b[0mint\u001b[0m\u001b[1;33m(\u001b[0m\u001b[0minput\u001b[0m\u001b[1;33m(\u001b[0m\u001b[1;34m\"input number: \"\u001b[0m\u001b[1;33m)\u001b[0m\u001b[1;33m)\u001b[0m\u001b[1;33m\u001b[0m\u001b[1;33m\u001b[0m\u001b[0m\n\u001b[1;32m----> 3\u001b[1;33m \u001b[0mtmp\u001b[0m \u001b[1;33m=\u001b[0m \u001b[1;36m10\u001b[0m \u001b[1;33m/\u001b[0m \u001b[0mval\u001b[0m\u001b[1;33m\u001b[0m\u001b[1;33m\u001b[0m\u001b[0m\n\u001b[0m\u001b[0;32m      4\u001b[0m \u001b[0mprint\u001b[0m\u001b[1;33m(\u001b[0m\u001b[0mtmp\u001b[0m\u001b[1;33m)\u001b[0m\u001b[1;33m\u001b[0m\u001b[1;33m\u001b[0m\u001b[0m\n\u001b[0;32m      5\u001b[0m \u001b[0mprint\u001b[0m\u001b[1;33m(\u001b[0m\u001b[1;34m\"stop\"\u001b[0m\u001b[1;33m)\u001b[0m\u001b[1;33m\u001b[0m\u001b[1;33m\u001b[0m\u001b[0m\n",
      "\u001b[1;31mZeroDivisionError\u001b[0m: division by zero"
     ]
    }
   ],
   "source": [
    "print(\"start\")\n",
    "val = int(input(\"input number: \"))\n",
    "tmp = 10 / val\n",
    "print(tmp)\n",
    "print(\"stop\")"
   ]
  },
  {
   "cell_type": "markdown",
   "metadata": {},
   "source": [
    "Если ввести 0 на запрос приведенной выше программы, произойдет ее остановка с распечаткой сообщения об исключении:\n",
    "<pre>\n",
    "start\n",
    "input number: 0\n",
    "---------------------------------------------------------------------------\n",
    "ZeroDivisionError                         Traceback (most recent call last)\n",
    "<ipython-input-13-6bab60a2a258> in <module>\n",
    "      1 print(\"start\")\n",
    "      2 val = int(input(\"input number: \"))\n",
    "----> 3 tmp = 10 / val\n",
    "      4 print(tmp)\n",
    "      5 print(\"stop\")\n",
    "\n",
    "    ZeroDivisionError: division by zero\n",
    "</pre>\n",
    "\n",
    "Обратите внимание, надпись stop уже не печатается в конце вывода программы.\n",
    "\n",
    ">Согласно документу по языку Python, описывающему ошибки и исключения, оператор try работает <a href=\"https://docs.python.org/3/tutorial/errors.html\">следующим образом</a>:\n",
    "- Вначале выполняется код, находящийся между операторами try и except.\n",
    "- Если в ходе его выполнения исключения не произошло, то код в блоке except пропускается, а код в блоке try выполняется весь до конца.\n",
    "- Если исключение происходит, то выполнение в рамках блока try прерывается и выполняется код в блоке except. При этом для оператора except можно указать, какие исключения можно обрабатывать в нем. При возникновении исключения, ищется именно тот блок except, который может обработать данное исключение.\n",
    "- Если среди except блоков нет подходящего для обработки исключения, то оно передается наружу из блока try. В случае, если обработчик исключения так и не будет найден, то исключение будет необработанным (unhandled exception) и программа аварийно остановится.\n",
    "\n",
    "Для указания набора исключений, который должен обрабатывать данный блок except их необходимо перечислить в скобках (круглых) через запятую после оператора except.\n",
    "\n",
    "Если бы мы в нашей программе хотели обрабатывать только ValueError и ZeroDivisionError, то программа выглядела бы так:"
   ]
  },
  {
   "cell_type": "code",
   "execution_count": 15,
   "metadata": {},
   "outputs": [
    {
     "name": "stdout",
     "output_type": "stream",
     "text": [
      "start\n",
      "input number: 0\n",
      "Error!\n",
      "stop\n"
     ]
    }
   ],
   "source": [
    "print(\"start\")\n",
    "try:\n",
    "   val = int(input(\"input number: \"))\n",
    "   tmp = 10 / val\n",
    "   print(tmp)\n",
    "except(ValueError, ZeroDivisionError):\n",
    "   print(\"Error!\")\n",
    "print(\"stop\")"
   ]
  },
  {
   "cell_type": "markdown",
   "metadata": {},
   "source": [
    "Или так, если хотим обрабатывать *ValueError*, *ZeroDivisionError* по отдельность, и, при этом, сохранить работоспособность при возникновении исключений отличных от вышеперечисленных:"
   ]
  },
  {
   "cell_type": "code",
   "execution_count": 17,
   "metadata": {},
   "outputs": [
    {
     "name": "stdout",
     "output_type": "stream",
     "text": [
      "start\n",
      "input number: dsadsa\n",
      "ValueError!\n",
      "stop\n"
     ]
    }
   ],
   "source": [
    "print(\"start\")\n",
    "try:\n",
    "   val = int(input(\"input number: \"))\n",
    "   tmp = 10 / val\n",
    "   print(tmp)\n",
    "except ValueError:\n",
    "   print(\"ValueError!\")\n",
    "except ZeroDivisionError:\n",
    "   print(\"ZeroDivisionError!\")\n",
    "except:\n",
    "   print(\"Error!\")\n",
    "print(\"stop\")"
   ]
  },
  {
   "cell_type": "markdown",
   "metadata": {},
   "source": [
    "Существует возможность передать подробную информацию о произошедшем исключении в код внутри блока *except*."
   ]
  },
  {
   "cell_type": "code",
   "execution_count": 21,
   "metadata": {},
   "outputs": [
    {
     "name": "stdout",
     "output_type": "stream",
     "text": [
      "start\n",
      "input number: 0\n",
      "ZeroDivisionError! division by zero\n",
      "stop\n"
     ]
    }
   ],
   "source": [
    "print(\"start\")\n",
    "try:\n",
    "   val = int(input(\"input number: \"))\n",
    "   tmp = 10 / val\n",
    "   print(tmp)\n",
    "except ValueError as ve:\n",
    "   print(\"ValueError! {0}\".format(ve))\n",
    "except ZeroDivisionError as zde:\n",
    "   print(\"ZeroDivisionError! {0}\".format(zde))\n",
    "except Exception as ex:\n",
    "   print(\"Error! {0}\".format(ex))\n",
    "print(\"stop\")"
   ]
  },
  {
   "cell_type": "markdown",
   "metadata": {},
   "source": [
    "## Использование finally в обработке исключений\n",
    "Для выполнения определенного программного кода при выходе из блока *try/except*, используйте оператор *finally*."
   ]
  },
  {
   "cell_type": "code",
   "execution_count": 23,
   "metadata": {},
   "outputs": [
    {
     "name": "stdout",
     "output_type": "stream",
     "text": [
      "input number: 10\n",
      "1.0\n",
      "Finally code\n"
     ]
    }
   ],
   "source": [
    "try:\n",
    "   val = int(input(\"input number: \"))\n",
    "   tmp = 10 / val\n",
    "   print(tmp)\n",
    "except:\n",
    "   print(\"Exception\")\n",
    "finally:\n",
    "  print(\"Finally code\")"
   ]
  },
  {
   "cell_type": "markdown",
   "metadata": {},
   "source": [
    "Не зависимо от того, возникнет или нет во время выполнения кода в блоке *try* исключение, код в блоке *finally* все равно будет выполнен.\n",
    "\n",
    "Если необходимо выполнить какой-то программный код, в случае если в процессе выполнения блока *try* не возникло исключений, то можно использовать оператор *else*."
   ]
  },
  {
   "cell_type": "code",
   "execution_count": 29,
   "metadata": {},
   "outputs": [
    {
     "name": "stdout",
     "output_type": "stream",
     "text": [
      "Some text gotta be here!\n",
      "File has been readed\n"
     ]
    }
   ],
   "source": [
    "try:\n",
    "   f = open(\"./source/txt/tmp.txt\", \"r\")\n",
    "   for line in f:\n",
    "       print(line)\n",
    "   f.close()\n",
    "except Exception as e:\n",
    "   print(e)\n",
    "else:\n",
    "   print(\"File has been read\")"
   ]
  },
  {
   "cell_type": "markdown",
   "metadata": {},
   "source": [
    "## Генерация исключений в Python\n",
    "Для принудительной генерации исключения используется инструкция *raise*.\n",
    "\n",
    "Самый простой пример работы с *raise* может выглядеть так."
   ]
  },
  {
   "cell_type": "code",
   "execution_count": 31,
   "metadata": {},
   "outputs": [
    {
     "name": "stdout",
     "output_type": "stream",
     "text": [
      "Exception exception: Test exception\n"
     ]
    }
   ],
   "source": [
    "try:\n",
    "   raise Exception(\"Test exception\")\n",
    "except Exception as e:\n",
    "   print(\"Exception exception: \" + str(e))"
   ]
  },
  {
   "cell_type": "markdown",
   "metadata": {},
   "source": [
    "Таким образом, можно “вручную” вызывать исключения при необходимости."
   ]
  },
  {
   "cell_type": "markdown",
   "metadata": {},
   "source": [
    "## Пользовательские исключения (User-defined Exceptions) в Python\n",
    "\n",
    "В Python можно создавать собственные исключения. Такая практика позволяет увеличить гибкость процесса обработки ошибок в рамках той предметной области, для которой написана ваша программа.\n",
    "\n",
    "Для реализации собственного типа исключения необходимо создать класс, являющийся наследником от одного из классов исключений."
   ]
  },
  {
   "cell_type": "code",
   "execution_count": 40,
   "metadata": {},
   "outputs": [
    {
     "name": "stdout",
     "output_type": "stream",
     "text": [
      "input positive number: -20\n",
      "'A positive value was expected, but a negative value was transmitted: -20'\n"
     ]
    }
   ],
   "source": [
    "# class MyError is extended from super class Exception\n",
    "class MyError(Exception):\n",
    "   # Constructor method\n",
    "   def __init__(self, value):\n",
    "      self.value = value\n",
    "   # __str__ display function\n",
    "   def __str__(self):\n",
    "      return(repr(self.value))\n",
    "\n",
    "try:\n",
    "   val = int(input(\"input positive number: \"))\n",
    "   if val < 0:\n",
    "       raise MyError(\"A positive value was expected, but a negative value was transmitted: \" + str(val))\n",
    "   print(val + 10)\n",
    "except MyError as e:\n",
    "  print(e)"
   ]
  }
 ],
 "metadata": {
  "kernelspec": {
   "display_name": "Python 3",
   "language": "python",
   "name": "python3"
  },
  "language_info": {
   "codemirror_mode": {
    "name": "ipython",
    "version": 3
   },
   "file_extension": ".py",
   "mimetype": "text/x-python",
   "name": "python",
   "nbconvert_exporter": "python",
   "pygments_lexer": "ipython3",
   "version": "3.7.6"
  }
 },
 "nbformat": 4,
 "nbformat_minor": 4
}
