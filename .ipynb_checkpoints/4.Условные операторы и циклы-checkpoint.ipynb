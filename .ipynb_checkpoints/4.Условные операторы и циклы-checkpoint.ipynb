{
 "cells": [
  {
   "cell_type": "markdown",
   "metadata": {},
   "source": [
    "# Условные операторы и циклы \n",
    "\n",
    "В этом уроке рассмотрим оператор ветвления if и операторы цикла while и for.  Основная цель – это дать общее представление об этих операторах и на простых примерах показать базовые принципы работы с ними."
   ]
  },
  {
   "cell_type": "markdown",
   "metadata": {},
   "source": [
    "## Условный оператор ветвления if \n",
    "\n",
    "Оператор ветвления if  позволяет выполнить определенный набор инструкций в зависимости от некоторого условия. Возможны следующие варианты использования.\n",
    "\n",
    "### 1. Конструкция if\n",
    "\n",
    "Синтаксис оператора if выглядит так.\n",
    "\n",
    "><code>if выражение:\n",
    "    инструкция_1\n",
    "    инструкция_2\n",
    "    ...\n",
    "    инструкция_n</code>\n",
    "    \n",
    "После оператора if  записывается выражение. Если это выражение истинно, то выполняются инструкции, определяемые данным оператором. Выражение является истинным, если его результатом является число не равное нулю, непустой объект, либо логическое True. После выражения нужно поставить двоеточие “:”."
   ]
  },
  {
   "cell_type": "code",
   "execution_count": 3,
   "metadata": {},
   "outputs": [
    {
     "name": "stdout",
     "output_type": "stream",
     "text": [
      "Переменная A больше нуля!\n"
     ]
    }
   ],
   "source": [
    "A = 5\n",
    "\n",
    "if A>0:\n",
    "    print(\"Переменная A больше нуля!\")"
   ]
  },
  {
   "cell_type": "markdown",
   "metadata": {},
   "source": [
    "<b>ВАЖНО:</b> блок кода, который необходимо выполнить, в случае истинности выражения, отделяется четырьмя пробелами слева или одной табуляцией!"
   ]
  },
  {
   "cell_type": "code",
   "execution_count": 17,
   "metadata": {},
   "outputs": [],
   "source": [
    "if not [] and not () and not 0 and False:\n",
    "    print(\"Все переданные переменные возвращат FALSE\")"
   ]
  },
  {
   "cell_type": "markdown",
   "metadata": {},
   "source": [
    "### 2. Конструкция if – else\n",
    "\n",
    "Бывают случаи, когда необходимо предусмотреть альтернативный вариант выполнения программы. Т.е. при истинном условии нужно выполнить один набор инструкций, при ложном – другой. Для этого используется конструкция if – else.\n",
    "\n",
    "><code>if выражение:\n",
    "    инструкция_1\n",
    "    инструкция_2\n",
    "    ...\n",
    "    инструкция_n\n",
    "else:\n",
    "    инструкция_a\n",
    "    инструкция_b\n",
    "    ...\n",
    "    инструкция_x</code>\n",
    "    \n",
    "Примеры."
   ]
  },
  {
   "cell_type": "code",
   "execution_count": 19,
   "metadata": {},
   "outputs": [
    {
     "name": "stdout",
     "output_type": "stream",
     "text": [
      "Переменная А больше 2\n"
     ]
    }
   ],
   "source": [
    "A = 3\n",
    "if A > 2:\n",
    "   print(\"Переменная А больше 2\")\n",
    "else:\n",
    "   print(\"Переменная А меньше или равна 2\")"
   ]
  },
  {
   "cell_type": "code",
   "execution_count": 22,
   "metadata": {},
   "outputs": [
    {
     "name": "stdout",
     "output_type": "stream",
     "text": [
      "Переменная А меньше или равна 2\n"
     ]
    }
   ],
   "source": [
    "A = 1\n",
    "if A > 2:\n",
    "   print(\"Переменная А больше 2\")\n",
    "else:\n",
    "   print(\"Переменная А меньше или равна 2\")"
   ]
  },
  {
   "cell_type": "markdown",
   "metadata": {},
   "source": [
    "Условие такого вида можно записать в строчку, в таком случае оно будет представлять собой тернарное выражение.\n",
    "\n",
    "> condition_if_true <b>if</b> condition <b>else</b> condition_if_false"
   ]
  },
  {
   "cell_type": "code",
   "execution_count": 27,
   "metadata": {},
   "outputs": [
    {
     "name": "stdout",
     "output_type": "stream",
     "text": [
      "Переменная А больше 2\n"
     ]
    }
   ],
   "source": [
    "A = 3\n",
    "\n",
    "result = \"Переменная А больше 2\" if A > 2 else \"Переменная А меньше или равна 2\"\n",
    "print(result)"
   ]
  },
  {
   "cell_type": "markdown",
   "metadata": {},
   "source": [
    "Также есть вариант использования тернарного оператора через картеж (tuples): \n",
    "> (if_test_is_false, if_test_is_true)[test]"
   ]
  },
  {
   "cell_type": "code",
   "execution_count": 29,
   "metadata": {},
   "outputs": [
    {
     "name": "stdout",
     "output_type": "stream",
     "text": [
      "Переменная А меньше или равна 2\n"
     ]
    }
   ],
   "source": [
    "A = 2\n",
    "result = (\"Переменная А меньше или равна 2\", \"Переменная А больше 2\")[A > 2]\n",
    "print(result)"
   ]
  },
  {
   "cell_type": "code",
   "execution_count": null,
   "metadata": {},
   "outputs": [],
   "source": []
  }
 ],
 "metadata": {
  "kernelspec": {
   "display_name": "Python 3",
   "language": "python",
   "name": "python3"
  },
  "language_info": {
   "codemirror_mode": {
    "name": "ipython",
    "version": 3
   },
   "file_extension": ".py",
   "mimetype": "text/x-python",
   "name": "python",
   "nbconvert_exporter": "python",
   "pygments_lexer": "ipython3",
   "version": "3.7.6"
  }
 },
 "nbformat": 4,
 "nbformat_minor": 4
}
