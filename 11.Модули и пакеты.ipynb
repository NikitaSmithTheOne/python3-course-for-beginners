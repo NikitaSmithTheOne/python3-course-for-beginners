{
 "cells": [
  {
   "cell_type": "markdown",
   "metadata": {},
   "source": [
    "# Модули и пакеты\n",
    "Модули и пакеты значительно упрощают работу программиста. Классы, объекты, функции и константы, которыми приходится часто пользоваться можно упаковать в модуль, и, в дальнейшем, загружать его в свои программы при необходимости. Пакеты позволяют формировать пространства имен для работы с модулями.\n",
    "\n",
    "## Модули в Python\n",
    "\n",
    "### Что такое модуль в Python?\n",
    "Под модулем в Python понимается файл с расширением *.py*. Модули предназначены для того, чтобы в них хранить часто используемые функции, классы, константы и т.п. Можно условно разделить модули и программы: программы предназначены для непосредственного запуска, а модули для импортирования их в другие программы. Стоит заметить, что модули могут быть написаны не только на языке Python, но и на других языках (например C).\n",
    "\n",
    "### Как импортировать модули в Python?\n",
    "Самый простой способ импортировать модуль в Python это воспользоваться конструкцией:\n",
    ">**import имя_модуля**\n",
    "\n",
    "Импорт и использование модуля math, который содержит математические функции, будет выглядеть вот так:"
   ]
  },
  {
   "cell_type": "code",
   "execution_count": 1,
   "metadata": {},
   "outputs": [
    {
     "data": {
      "text/plain": [
       "120"
      ]
     },
     "execution_count": 1,
     "metadata": {},
     "output_type": "execute_result"
    }
   ],
   "source": [
    "import math\n",
    "math.factorial(5)"
   ]
  },
  {
   "cell_type": "markdown",
   "metadata": {},
   "source": [
    "За один раз можно импортировать сразу несколько модулей, для этого их нужно перечислить через запятую после слова import:\n",
    ">**import имя_модуля1, имя_модуля2**"
   ]
  },
  {
   "cell_type": "code",
   "execution_count": 3,
   "metadata": {},
   "outputs": [
    {
     "name": "stdout",
     "output_type": "stream",
     "text": [
      "0.7071067811865476\n",
      "2017-03-21\n"
     ]
    }
   ],
   "source": [
    "import math, datetime\n",
    "print(math.cos(math.pi/4))\n",
    "print(datetime.date(2017, 3, 21))"
   ]
  },
  {
   "cell_type": "markdown",
   "metadata": {},
   "source": [
    "Если вы хотите задать псевдоним для модуля в вашей программе, можно воспользоваться вот таким синтаксисом:\n",
    ">**import имя_модуля as новое_имя**"
   ]
  },
  {
   "cell_type": "code",
   "execution_count": 4,
   "metadata": {},
   "outputs": [
    {
     "data": {
      "text/plain": [
       "0.8660254037844386"
      ]
     },
     "execution_count": 4,
     "metadata": {},
     "output_type": "execute_result"
    }
   ],
   "source": [
    "import math as m\n",
    "m.sin(m.pi/3)"
   ]
  },
  {
   "cell_type": "markdown",
   "metadata": {},
   "source": [
    "Используя любой из вышеперечисленных подходов, при вызове функции из импортированного модуля, вам всегда придется указывать имя модуля (или псевдоним). Для того, чтобы этого избежать делайте импорт через конструкцию:\n",
    ">**from имя_модуля import имя _объекта**"
   ]
  },
  {
   "cell_type": "code",
   "execution_count": 7,
   "metadata": {},
   "outputs": [
    {
     "data": {
      "text/plain": [
       "1.0"
      ]
     },
     "execution_count": 7,
     "metadata": {},
     "output_type": "execute_result"
    }
   ],
   "source": [
    "from math import cos\n",
    "cos(0)"
   ]
  },
  {
   "cell_type": "markdown",
   "metadata": {},
   "source": [
    "При этом импортируется только конкретный объект (в нашем примере: функция cos), остальные функции недоступны, даже если при их вызове указать имя модуля:"
   ]
  },
  {
   "cell_type": "code",
   "execution_count": 14,
   "metadata": {},
   "outputs": [
    {
     "name": "stdout",
     "output_type": "stream",
     "text": [
      "-0.9999987317275395\n"
     ]
    },
    {
     "ename": "NameError",
     "evalue": "name 'sin' is not defined",
     "output_type": "error",
     "traceback": [
      "\u001b[1;31m---------------------------------------------------------------------------\u001b[0m",
      "\u001b[1;31mNameError\u001b[0m                                 Traceback (most recent call last)",
      "\u001b[1;32m<ipython-input-14-eac6dc57de09>\u001b[0m in \u001b[0;36m<module>\u001b[1;34m\u001b[0m\n\u001b[0;32m      1\u001b[0m \u001b[1;32mfrom\u001b[0m \u001b[0mmath\u001b[0m \u001b[1;32mimport\u001b[0m \u001b[0mcos\u001b[0m\u001b[1;33m\u001b[0m\u001b[1;33m\u001b[0m\u001b[0m\n\u001b[0;32m      2\u001b[0m \u001b[0mprint\u001b[0m\u001b[1;33m(\u001b[0m\u001b[0mcos\u001b[0m\u001b[1;33m(\u001b[0m\u001b[1;36m3.14\u001b[0m\u001b[1;33m)\u001b[0m\u001b[1;33m)\u001b[0m\u001b[1;33m\u001b[0m\u001b[1;33m\u001b[0m\u001b[0m\n\u001b[1;32m----> 3\u001b[1;33m \u001b[0mprint\u001b[0m\u001b[1;33m(\u001b[0m\u001b[0msin\u001b[0m\u001b[1;33m(\u001b[0m\u001b[1;36m3.14\u001b[0m\u001b[1;33m)\u001b[0m\u001b[1;33m)\u001b[0m\u001b[1;33m\u001b[0m\u001b[1;33m\u001b[0m\u001b[0m\n\u001b[0m\u001b[0;32m      4\u001b[0m \u001b[0mprint\u001b[0m\u001b[1;33m(\u001b[0m\u001b[0mmath\u001b[0m\u001b[1;33m.\u001b[0m\u001b[0msin\u001b[0m\u001b[1;33m(\u001b[0m\u001b[1;36m3.14\u001b[0m\u001b[1;33m)\u001b[0m\u001b[1;33m)\u001b[0m\u001b[1;33m\u001b[0m\u001b[1;33m\u001b[0m\u001b[0m\n",
      "\u001b[1;31mNameError\u001b[0m: name 'sin' is not defined"
     ]
    }
   ],
   "source": [
    "from math import cos\n",
    "print(cos(3.14))\n",
    "print(sin(3.14))\n",
    "print(math.sin(3.14))"
   ]
  },
  {
   "cell_type": "markdown",
   "metadata": {},
   "source": [
    "Для имортирования нескольких функций из модуля, можно перечислить их имена через запятую:\n",
    ">**from имя_модуля import имя_объекта1, имя_объекта2**"
   ]
  },
  {
   "cell_type": "code",
   "execution_count": 16,
   "metadata": {},
   "outputs": [
    {
     "name": "stdout",
     "output_type": "stream",
     "text": [
      "0.5000000000000001\n",
      "0.8660254037844386\n"
     ]
    }
   ],
   "source": [
    "from math import cos, sin, pi\n",
    "print(cos(pi/3))\n",
    "print(sin(pi/3))"
   ]
  },
  {
   "cell_type": "markdown",
   "metadata": {},
   "source": [
    "Импортируемому объекту можно задать псевдоним:\n",
    ">**from имя_модуля import имя_объекта as псевдоним_объекта**"
   ]
  },
  {
   "cell_type": "code",
   "execution_count": 17,
   "metadata": {},
   "outputs": [
    {
     "data": {
      "text/plain": [
       "24"
      ]
     },
     "execution_count": 17,
     "metadata": {},
     "output_type": "execute_result"
    }
   ],
   "source": [
    "from math import factorial as f\n",
    "f(4)"
   ]
  },
  {
   "cell_type": "markdown",
   "metadata": {},
   "source": [
    "Если необходимо импортировать все фукнции, классы и т.п. из модуля, то воспользуйтесь следующей формой оператора *from … import …* :\n",
    ">**from имя_модуля import**"
   ]
  },
  {
   "cell_type": "code",
   "execution_count": 19,
   "metadata": {},
   "outputs": [
    {
     "name": "stdout",
     "output_type": "stream",
     "text": [
      "6.123233995736766e-17\n",
      "0.7071067811865476\n",
      "720\n"
     ]
    }
   ],
   "source": [
    "from math import *\n",
    "print(cos(pi/2))\n",
    "print(sin(pi/4))\n",
    "print(factorial(6))"
   ]
  },
  {
   "cell_type": "markdown",
   "metadata": {},
   "source": [
    "## Пакеты в Python\n",
    "### Что такое пакет в Python?\n",
    "Пакет в *Python* – это каталог, включающий в себя другие каталоги и модули, но при этом дополнительно содержащий файл **__init__.py**. Пакеты используются для формирования пространства имен, что позволяет работать с модулями через указание уровня вложенности (через точку).\n",
    "\n",
    "Для импортирования пакетов используется тот же синтаксис, что и для работы с модулями.\n",
    "\n",
    "### Использование пакетов в Python\n",
    "Рассмотрим следующую структуру пакета:\n",
    "><pre>fincalc\n",
    "|-- __init__.py\n",
    "|-- simper.py\n",
    "|-- compper.py\n",
    "|-- annuity.py</pre>\n",
    "\n",
    "Пакет *fincal* содержит в себе модули для работы с простыми процентами (simper.py), сложными процентами (compper.py) и аннуитетами (annuity.py).\n",
    "\n",
    "Для использования фукнции из модуля работы с простыми процентами, можно использовать один из следующих вариантов:\n",
    "\n",
    "><pre>import fincalc.simper\n",
    "fv = fincalc.simper.fv(pv, i, n)</pre>\n",
    "\n",
    "><pre>import fincalc.simper as sp\n",
    "fv =sp.fv(pv, i, n)</pre>\n",
    "\n",
    "><pre>from fincalc import simper\n",
    "fv = simper.fv(pv, i, n)</pre>\n",
    "\n",
    "Файл *__init__.py* может быть пустым или может содержать переменную *__all__*, хранящую список модулей, который импортируется при загрузке через конструкцию:\n",
    ">**from имя_пакета import ***\n",
    "\n",
    "Например для нашего случая содержимое *__init__.py* может быть вот таким:\n",
    "\n",
    ">__all__ = [\"simper\", \"compper\", \"annuity\"]"
   ]
  }
 ],
 "metadata": {
  "kernelspec": {
   "display_name": "Python 3",
   "language": "python",
   "name": "python3"
  },
  "language_info": {
   "codemirror_mode": {
    "name": "ipython",
    "version": 3
   },
   "file_extension": ".py",
   "mimetype": "text/x-python",
   "name": "python",
   "nbconvert_exporter": "python",
   "pygments_lexer": "ipython3",
   "version": "3.7.6"
  }
 },
 "nbformat": 4,
 "nbformat_minor": 4
}
