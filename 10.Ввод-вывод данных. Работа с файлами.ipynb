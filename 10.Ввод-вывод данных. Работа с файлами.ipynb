{
 "cells": [
  {
   "cell_type": "markdown",
   "metadata": {},
   "source": [
    "# Ввод-вывод данных. Работа с файлами\n",
    "В уроке рассмотрены основные способы ввода и вывода данных в Python с использованием консоли, и работа с файлами: открытие, закрытие, чтение и запись.\n",
    "\n",
    "## Вывод данных в консоль\n",
    "Один из самых распространенных способов вывести данные в Python – это напечатать их в консоли. Если вы находитесь на этапе изучения языка, такой способ является основным для того, чтобы быстро просмотреть результат свой работы. Для вывода данных в консоль используется функция *print*.\n",
    "\n",
    "Рассмотрим основные способы использования данной функции."
   ]
  },
  {
   "cell_type": "code",
   "execution_count": 1,
   "metadata": {},
   "outputs": [
    {
     "name": "stdout",
     "output_type": "stream",
     "text": [
      "Hello\n",
      "Hello, world!\n",
      "Age: 23\n"
     ]
    }
   ],
   "source": [
    "print(\"Hello\")\n",
    "print(\"Hello, \" + \"world!\")\n",
    "print(\"Age: \" + str(23))"
   ]
  },
  {
   "cell_type": "markdown",
   "metadata": {},
   "source": [
    "По умолчанию, для разделения элементов в функции print используется пробел."
   ]
  },
  {
   "cell_type": "code",
   "execution_count": 2,
   "metadata": {},
   "outputs": [
    {
     "name": "stdout",
     "output_type": "stream",
     "text": [
      "A B C\n"
     ]
    }
   ],
   "source": [
    "print(\"A\", \"B\", \"C\")"
   ]
  },
  {
   "cell_type": "markdown",
   "metadata": {},
   "source": [
    "Для замены разделителя необходимо использовать параметр *sep* функции *print*."
   ]
  },
  {
   "cell_type": "code",
   "execution_count": 3,
   "metadata": {},
   "outputs": [
    {
     "name": "stdout",
     "output_type": "stream",
     "text": [
      "A#B#C\n"
     ]
    }
   ],
   "source": [
    "print(\"A\", \"B\", \"C\", sep=\"#\")"
   ]
  },
  {
   "cell_type": "markdown",
   "metadata": {},
   "source": [
    "В качестве конечного элемента выводимой строки, используется символ перевода строки."
   ]
  },
  {
   "cell_type": "code",
   "execution_count": 4,
   "metadata": {},
   "outputs": [
    {
     "name": "stdout",
     "output_type": "stream",
     "text": [
      "i: 0\n",
      "i: 1\n",
      "i: 2\n"
     ]
    }
   ],
   "source": [
    "for i in range(3):\n",
    "    print(\"i: \" + str(i))   "
   ]
  },
  {
   "cell_type": "markdown",
   "metadata": {},
   "source": [
    "Для его замены используется параметр *end*."
   ]
  },
  {
   "cell_type": "code",
   "execution_count": 5,
   "metadata": {},
   "outputs": [
    {
     "name": "stdout",
     "output_type": "stream",
     "text": [
      "[i: 0] -- [i: 1] -- [i: 2] -- "
     ]
    }
   ],
   "source": [
    "for i in range(3):\n",
    "    print(\"[i: \" + str(i) + \"]\", end=\" -- \")"
   ]
  },
  {
   "cell_type": "markdown",
   "metadata": {},
   "source": [
    "## Ввод данных с клавиатуры\n",
    "Для считывания вводимых с клавиатуры данных используется функция *input()*."
   ]
  },
  {
   "cell_type": "code",
   "execution_count": 6,
   "metadata": {},
   "outputs": [
    {
     "name": "stdout",
     "output_type": "stream",
     "text": [
      "1\n"
     ]
    },
    {
     "data": {
      "text/plain": [
       "'1'"
      ]
     },
     "execution_count": 6,
     "metadata": {},
     "output_type": "execute_result"
    }
   ],
   "source": [
    "input()"
   ]
  },
  {
   "cell_type": "markdown",
   "metadata": {},
   "source": [
    "Для сохранения данных в переменной используется следующий синтаксис."
   ]
  },
  {
   "cell_type": "code",
   "execution_count": 7,
   "metadata": {},
   "outputs": [
    {
     "name": "stdout",
     "output_type": "stream",
     "text": [
      "test\n",
      "test\n"
     ]
    }
   ],
   "source": [
    "a = input()\n",
    "print(a)"
   ]
  },
  {
   "cell_type": "markdown",
   "metadata": {},
   "source": [
    "Если считывается с клавиатуры целое число, то строку, получаемую с помощью функции *input()*, можно передать сразу в функцию *int()*."
   ]
  },
  {
   "cell_type": "code",
   "execution_count": 8,
   "metadata": {},
   "outputs": [
    {
     "name": "stdout",
     "output_type": "stream",
     "text": [
      "10\n",
      "10\n"
     ]
    },
    {
     "data": {
      "text/plain": [
       "int"
      ]
     },
     "execution_count": 8,
     "metadata": {},
     "output_type": "execute_result"
    }
   ],
   "source": [
    "value = int(input())\n",
    "print(value)\n",
    "type(value)"
   ]
  },
  {
   "cell_type": "markdown",
   "metadata": {},
   "source": [
    "Для вывода строки-приглашения, используйте ее в качестве аргумента функции *input()*."
   ]
  },
  {
   "cell_type": "code",
   "execution_count": 9,
   "metadata": {},
   "outputs": [
    {
     "name": "stdout",
     "output_type": "stream",
     "text": [
      "input number: 231\n",
      "231\n"
     ]
    }
   ],
   "source": [
    "tv = int(input(\"input number: \"))\n",
    "print(tv)"
   ]
  },
  {
   "cell_type": "markdown",
   "metadata": {},
   "source": [
    "Преобразование строки в список осуществляется с помощью метода *split()*, по умолчанию, в качестве разделителя, используется пробел."
   ]
  },
  {
   "cell_type": "code",
   "execution_count": 10,
   "metadata": {},
   "outputs": [
    {
     "name": "stdout",
     "output_type": "stream",
     "text": [
      "1 2 3 4 fds 213 21fd \n",
      "['1', '2', '3', '4', 'fds', '213', '21fd']\n"
     ]
    }
   ],
   "source": [
    "lst = input().split()\n",
    "print(lst)"
   ]
  },
  {
   "cell_type": "markdown",
   "metadata": {},
   "source": [
    "Разделитель можно заменить, указав его в качестве аргумента метода *split()*."
   ]
  },
  {
   "cell_type": "code",
   "execution_count": 11,
   "metadata": {},
   "outputs": [
    {
     "name": "stdout",
     "output_type": "stream",
     "text": [
      "1,2,3,4,5,fdfds\n",
      "['1', '2', '3', '4', '5', 'fdfds']\n"
     ]
    }
   ],
   "source": [
    "lst = input().split(\",\")\n",
    "print(lst)"
   ]
  },
  {
   "cell_type": "markdown",
   "metadata": {},
   "source": [
    "Для считывания списка чисел с одновременным приведением их к типу *int* можно воспользоваться вот такой конструкцией."
   ]
  },
  {
   "cell_type": "code",
   "execution_count": 12,
   "metadata": {},
   "outputs": [
    {
     "name": "stdout",
     "output_type": "stream",
     "text": [
      "321 32131 12321 34 1 3 56\n",
      "[321, 32131, 12321, 34, 1, 3, 56]\n"
     ]
    }
   ],
   "source": [
    "nums = map(int, input().split())\n",
    "print(list(nums))"
   ]
  },
  {
   "cell_type": "markdown",
   "metadata": {},
   "source": [
    "## Работа с файлами\n",
    "### Открытие и закрытие файла\n",
    "\n",
    "Для открытия файла используется функция *open()*, которая возвращает файловый объект. Наиболее часто используемый вид данной функции выглядит так *open(имя_файла, режим_доступа)*.\n",
    "\n",
    ">Для указания режима доступа используется следующие символы:\n",
    "- ‘r’ – открыть файл для чтения\n",
    "- ‘w’ – открыть файл для записи\n",
    "- ‘x’ – открыть файл с целью создания, если файл существует, то вызов функции open завершится с ошибкой\n",
    "- ‘a’ – открыть файл для записи, при этом новые данные будут добавлены в конец файла, без удаления существующих\n",
    "- ‘b’ – бинарный режим\n",
    "- ‘t’ – текстовый режим\n",
    "- ‘+’ – открывает файл для обновления\n",
    "\n",
    "По умолчанию файл открывается на чтение в текстовом режиме.\n",
    "\n",
    ">У файлового объекта есть следующие атрибуты:\n",
    "- file.closed – возвращает true если файл закрыт и false в противном случае;\n",
    "- file.mode – возвращает режим доступа к файлу, при этом файл должен быть открыт;\n",
    "- file.name – имя файла."
   ]
  },
  {
   "cell_type": "code",
   "execution_count": 61,
   "metadata": {},
   "outputs": [
    {
     "name": "stdout",
     "output_type": "stream",
     "text": [
      "file.closed: False\n",
      "file.mode: r\n",
      "file.name: ./source/txt/test.txt\n"
     ]
    }
   ],
   "source": [
    "f = open(\"./source/txt/test.txt\", \"r\")\n",
    "print(\"file.closed: \" + str(f.closed))\n",
    "print(\"file.mode: \" + f.mode)\n",
    "print(\"file.name: \" + f.name)\n",
    "f.close()"
   ]
  },
  {
   "cell_type": "markdown",
   "metadata": {},
   "source": [
    "Для закрытия файла используется метод *close()*."
   ]
  },
  {
   "cell_type": "markdown",
   "metadata": {},
   "source": [
    "### Чтение данных из файла\n",
    "Чтение данных из файла осуществляется с помощью методов *read(размер)* и *readline()*.\n",
    "\n",
    "Метод *read(размер)* считывает из файла определенное количество символов, переданное в качестве аргумента. Если использовать этот метод без аргументов, то будет считан весь файл."
   ]
  },
  {
   "cell_type": "code",
   "execution_count": 60,
   "metadata": {},
   "outputs": [
    {
     "name": "stdout",
     "output_type": "stream",
     "text": [
      "Всем на свете это ясно —\n",
      "Быть программером прекрасно!\n",
      "Ты, программер, умный очень —\n",
      "Программируешь что хочешь!\n"
     ]
    }
   ],
   "source": [
    "f1 = open(\"./source/txt/test.txt\", \"r\")\n",
    "print(f1.read())\n",
    "f1.close()"
   ]
  },
  {
   "cell_type": "markdown",
   "metadata": {},
   "source": [
    "В качестве аргумента метода можно передать количество символом, которое нужно считать."
   ]
  },
  {
   "cell_type": "code",
   "execution_count": 64,
   "metadata": {},
   "outputs": [
    {
     "name": "stdout",
     "output_type": "stream",
     "text": [
      "Всем на свете\n"
     ]
    }
   ],
   "source": [
    "f2 = open(\"./source/txt/test.txt\", \"r\")\n",
    "print(f2.read(13))\n",
    "f2.close()"
   ]
  },
  {
   "cell_type": "markdown",
   "metadata": {},
   "source": [
    "Метод *readline()* позволяет считать строку из открытого файла."
   ]
  },
  {
   "cell_type": "code",
   "execution_count": 65,
   "metadata": {},
   "outputs": [
    {
     "name": "stdout",
     "output_type": "stream",
     "text": [
      "Всем на свете это ясно —\n",
      "\n"
     ]
    }
   ],
   "source": [
    "f3 = open(\"./source/txt/test.txt\", \"r\")\n",
    "print(f3.readline())\n",
    "f3.close()"
   ]
  },
  {
   "cell_type": "markdown",
   "metadata": {},
   "source": [
    "Построчное считывание можно организовать с  помощью оператора *for*."
   ]
  },
  {
   "cell_type": "code",
   "execution_count": 66,
   "metadata": {},
   "outputs": [
    {
     "name": "stdout",
     "output_type": "stream",
     "text": [
      "Всем на свете это ясно —\n",
      "\n",
      "Быть программером прекрасно!\n",
      "\n",
      "Ты, программер, умный очень —\n",
      "\n",
      "Программируешь что хочешь!\n"
     ]
    }
   ],
   "source": [
    "f4 = open(\"./source/txt/test.txt\", \"r\")\n",
    "for line in f4:\n",
    "    print(line)\n",
    "f4.close()"
   ]
  },
  {
   "cell_type": "markdown",
   "metadata": {},
   "source": [
    "## Запись данных в файл\n",
    "Для записи данных файл используется метод *write(строка)*, при успешной записи он вернет количество записанных символов."
   ]
  },
  {
   "cell_type": "code",
   "execution_count": 69,
   "metadata": {},
   "outputs": [
    {
     "name": "stdout",
     "output_type": "stream",
     "text": [
      "11\n"
     ]
    }
   ],
   "source": [
    "f5 = open(\"./source/txt/test.txt\", \"a\")\n",
    "print(f5.write(\"Test string\"))\n",
    "f5.close()"
   ]
  },
  {
   "cell_type": "markdown",
   "metadata": {},
   "source": [
    "## Дополнительные методы для работы с файлами\n",
    "Метод *tell()* возвращает текущую позицию “условного курсора” в файле. Например, если вы считали пять символов, то “курсор” будет установлен в позицию 5."
   ]
  },
  {
   "cell_type": "code",
   "execution_count": 71,
   "metadata": {},
   "outputs": [
    {
     "name": "stdout",
     "output_type": "stream",
     "text": [
      "Всем \n",
      "5\n"
     ]
    }
   ],
   "source": [
    "f6 = open(\"./source/txt/test.txt\", \"r\")\n",
    "print(f6.read(5))\n",
    "print(f6.tell())\n",
    "f.close()"
   ]
  },
  {
   "cell_type": "markdown",
   "metadata": {},
   "source": [
    "Метод *seek(позиция)* выставляет позицию в файле."
   ]
  },
  {
   "cell_type": "code",
   "execution_count": 74,
   "metadata": {},
   "outputs": [
    {
     "name": "stdout",
     "output_type": "stream",
     "text": [
      "0\n",
      "8\n",
      "с\n",
      "9\n"
     ]
    }
   ],
   "source": [
    "f7 = open(\"./source/txt/test.txt\", \"r\")\n",
    "print(f7.tell())\n",
    "print(f7.seek(8))\n",
    "print(f7.read(1))\n",
    "print(f7.tell())\n",
    "f7.close()"
   ]
  },
  {
   "cell_type": "markdown",
   "metadata": {},
   "source": [
    "Хорошей практикой при работе с файлами является применение оператора *with*. При его использовании нет необходимости закрывать файл, при завершении работы с ним, эта операция будет выполнена автоматически."
   ]
  },
  {
   "cell_type": "code",
   "execution_count": 76,
   "metadata": {},
   "outputs": [
    {
     "name": "stdout",
     "output_type": "stream",
     "text": [
      "Всем на свете это ясно —\n",
      "\n",
      "Быть программером прекрасно!\n",
      "\n",
      "Ты, программер, умный очень —\n",
      "\n",
      "Программируешь что хочешь!\n"
     ]
    }
   ],
   "source": [
    "with open(\"./source/txt/test.txt\", \"r\") as f:\n",
    "    for line in f:\n",
    "        print(line)"
   ]
  }
 ],
 "metadata": {
  "kernelspec": {
   "display_name": "Python 3",
   "language": "python",
   "name": "python3"
  },
  "language_info": {
   "codemirror_mode": {
    "name": "ipython",
    "version": 3
   },
   "file_extension": ".py",
   "mimetype": "text/x-python",
   "name": "python",
   "nbconvert_exporter": "python",
   "pygments_lexer": "ipython3",
   "version": "3.7.6"
  },
  "widgets": {
   "application/vnd.jupyter.widget-state+json": {
    "state": {},
    "version_major": 2,
    "version_minor": 0
   }
  }
 },
 "nbformat": 4,
 "nbformat_minor": 4
}
